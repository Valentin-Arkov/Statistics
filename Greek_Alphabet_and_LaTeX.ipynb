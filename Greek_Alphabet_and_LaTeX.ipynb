{
  "nbformat": 4,
  "nbformat_minor": 0,
  "metadata": {
    "colab": {
      "name": "Greek Alphabet and LaTeX.ipynb",
      "provenance": [],
      "collapsed_sections": [],
      "toc_visible": true
    },
    "kernelspec": {
      "name": "python3",
      "display_name": "Python 3"
    },
    "language_info": {
      "name": "python"
    }
  },
  "cells": [
    {
      "cell_type": "markdown",
      "source": [
        "# Греческий алфавит"
      ],
      "metadata": {
        "id": "3Tq9V7ZctEzd"
      }
    },
    {
      "cell_type": "markdown",
      "source": [
        "Заглавная|Строчная|Название\n",
        "--|--|--\n",
        "A|$\\alpha$|альфа\n"
      ],
      "metadata": {
        "id": "ZjgEl8BptGrF"
      }
    },
    {
      "cell_type": "markdown",
      "source": [
        "Заглавная|Строчная|Название\n",
        "--|--|--\n",
        "A|$\\alpha$|альфа\n"
      ],
      "metadata": {
        "id": "11PTnwsZt-p3"
      }
    },
    {
      "cell_type": "markdown",
      "source": [
        "$${\\displaystyle f(x)={\\frac {1}{\\sigma {\\sqrt {2\\pi }}}}e^{-{\\frac {1}{2}}\\left({\\frac {x-\\mu }{\\sigma }}\\right)^{2}}}$$"
      ],
      "metadata": {
        "id": "KzWC7QIeuyi4"
      }
    },
    {
      "cell_type": "markdown",
      "source": [
        "Формула в отдельной строке\n",
        "$${\\displaystyle f(x)={\\frac {1}{\\sigma {\\sqrt {2\\pi }}}}e^{-{\\frac {1}{2}}\\left({\\frac {x-\\mu }{\\sigma }}\\right)^{2}}}$$\n",
        "\n",
        "Формула в тексте: ${\\displaystyle f(x)={\\frac {1}{\\sigma {\\sqrt {2\\pi }}}}e^{-{\\frac {1}{2}}\\left({\\frac {x-\\mu }{\\sigma }}\\right)^{2}}}$\n"
      ],
      "metadata": {
        "id": "yOT3IvSlu5NC"
      }
    },
    {
      "cell_type": "markdown",
      "source": [
        "# Заголовок первого уровня\n"
      ],
      "metadata": {
        "id": "s4x2p-tIyvEk"
      }
    },
    {
      "cell_type": "markdown",
      "source": [
        "## Заголовок второго уровня\n"
      ],
      "metadata": {
        "id": "qgFkG9o6y77C"
      }
    },
    {
      "cell_type": "markdown",
      "source": [
        "### Заголовок третьего уровня\n",
        "\n"
      ],
      "metadata": {
        "id": "PNE0xcAXy_Dh"
      }
    },
    {
      "cell_type": "code",
      "source": [
        ""
      ],
      "metadata": {
        "id": "u76KETNxzGcK"
      },
      "execution_count": null,
      "outputs": []
    }
  ]
}